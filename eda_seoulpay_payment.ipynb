{
 "cells": [
  {
   "cell_type": "markdown",
   "id": "9ed48473",
   "metadata": {},
   "source": [
    "### 1. 분석 목표와 데이터 확인\n",
    "\n",
    "* 분석할 주제 및 문제 정의\n",
    "    - 서울페이 활성화를 위한 방안\n",
    "\n",
    "* 분석 목표 수립 및 가설 설정\n",
    "    - 서울페이 동/업종별 결제 기록을 분석하여 인사이트 도출\n",
    "\n",
    "* 필요한 데이터 종류 및 출처, 수집 방식\n",
    "    - 정형 : csv(공공데이터 포털) - 다운로드"
   ]
  },
  {
   "cell_type": "markdown",
   "id": "792e5fe8",
   "metadata": {},
   "source": [
    "### 2. 데이터 로딩 및 구조 파악"
   ]
  },
  {
   "cell_type": "markdown",
   "id": "e5b8be82",
   "metadata": {},
   "source": [
    "* 데이터 로딩"
   ]
  },
  {
   "cell_type": "code",
   "execution_count": 250,
   "id": "cd41c579",
   "metadata": {},
   "outputs": [],
   "source": [
    "import numpy as np\n",
    "import pandas as pd\n",
    "import matplotlib.pyplot as plt\n",
    "import koreanize_matplotlib\n",
    "import seaborn as sns\n",
    "import folium as fo\n",
    "\n",
    "data = pd.read_excel('data/서울페이_행정동별_업종별 결제현황(24.6).xlsx')"
   ]
  },
  {
   "cell_type": "markdown",
   "id": "daf89eb2",
   "metadata": {},
   "source": [
    "* 데이터 개요 및 데이터 타입 확인\n",
    "    - head(), info() "
   ]
  },
  {
   "cell_type": "code",
   "execution_count": 251,
   "id": "41225f0e",
   "metadata": {},
   "outputs": [
    {
     "data": {
      "text/html": [
       "<div>\n",
       "<style scoped>\n",
       "    .dataframe tbody tr th:only-of-type {\n",
       "        vertical-align: middle;\n",
       "    }\n",
       "\n",
       "    .dataframe tbody tr th {\n",
       "        vertical-align: top;\n",
       "    }\n",
       "\n",
       "    .dataframe thead th {\n",
       "        text-align: right;\n",
       "    }\n",
       "</style>\n",
       "<table border=\"1\" class=\"dataframe\">\n",
       "  <thead>\n",
       "    <tr style=\"text-align: right;\">\n",
       "      <th></th>\n",
       "      <th>서울페이앱분류업종</th>\n",
       "      <th>자치구</th>\n",
       "      <th>상품권매출금액\\n(24년1월~24년6월)</th>\n",
       "      <th>상품권거래건수\\n(24년1월~24년6월)</th>\n",
       "    </tr>\n",
       "  </thead>\n",
       "  <tbody>\n",
       "    <tr>\n",
       "      <th>0</th>\n",
       "      <td>기타</td>\n",
       "      <td>중구</td>\n",
       "      <td>3583515256</td>\n",
       "      <td>192005</td>\n",
       "    </tr>\n",
       "    <tr>\n",
       "      <th>1</th>\n",
       "      <td>기타</td>\n",
       "      <td>강남구</td>\n",
       "      <td>884966860</td>\n",
       "      <td>1420</td>\n",
       "    </tr>\n",
       "    <tr>\n",
       "      <th>2</th>\n",
       "      <td>기술/기능교육</td>\n",
       "      <td>관악구</td>\n",
       "      <td>773314650</td>\n",
       "      <td>4291</td>\n",
       "    </tr>\n",
       "    <tr>\n",
       "      <th>3</th>\n",
       "      <td>음식점/식음료업</td>\n",
       "      <td>용산구</td>\n",
       "      <td>526168313</td>\n",
       "      <td>3769</td>\n",
       "    </tr>\n",
       "    <tr>\n",
       "      <th>4</th>\n",
       "      <td>의류/잡화</td>\n",
       "      <td>용산구</td>\n",
       "      <td>445410988</td>\n",
       "      <td>3416</td>\n",
       "    </tr>\n",
       "  </tbody>\n",
       "</table>\n",
       "</div>"
      ],
      "text/plain": [
       "  서울페이앱분류업종  자치구  상품권매출금액\\n(24년1월~24년6월)  상품권거래건수\\n(24년1월~24년6월)\n",
       "0        기타   중구              3583515256                  192005\n",
       "1        기타  강남구               884966860                    1420\n",
       "2   기술/기능교육  관악구               773314650                    4291\n",
       "3  음식점/식음료업  용산구               526168313                    3769\n",
       "4     의류/잡화  용산구               445410988                    3416"
      ]
     },
     "execution_count": 251,
     "metadata": {},
     "output_type": "execute_result"
    }
   ],
   "source": [
    "data.head()"
   ]
  },
  {
   "cell_type": "code",
   "execution_count": 252,
   "id": "e1066a01",
   "metadata": {},
   "outputs": [
    {
     "name": "stdout",
     "output_type": "stream",
     "text": [
      "<class 'pandas.core.frame.DataFrame'>\n",
      "RangeIndex: 251006 entries, 0 to 251005\n",
      "Data columns (total 4 columns):\n",
      " #   Column                 Non-Null Count   Dtype \n",
      "---  ------                 --------------   ----- \n",
      " 0   서울페이앱분류업종              251006 non-null  object\n",
      " 1   자치구                    251006 non-null  object\n",
      " 2   상품권매출금액\n",
      "(24년1월~24년6월)  251006 non-null  int64 \n",
      " 3   상품권거래건수\n",
      "(24년1월~24년6월)  251006 non-null  int64 \n",
      "dtypes: int64(2), object(2)\n",
      "memory usage: 7.7+ MB\n"
     ]
    }
   ],
   "source": [
    "data.info()"
   ]
  },
  {
   "cell_type": "code",
   "execution_count": 253,
   "id": "5c474cf1",
   "metadata": {},
   "outputs": [
    {
     "data": {
      "text/html": [
       "<div>\n",
       "<style scoped>\n",
       "    .dataframe tbody tr th:only-of-type {\n",
       "        vertical-align: middle;\n",
       "    }\n",
       "\n",
       "    .dataframe tbody tr th {\n",
       "        vertical-align: top;\n",
       "    }\n",
       "\n",
       "    .dataframe thead th {\n",
       "        text-align: right;\n",
       "    }\n",
       "</style>\n",
       "<table border=\"1\" class=\"dataframe\">\n",
       "  <thead>\n",
       "    <tr style=\"text-align: right;\">\n",
       "      <th></th>\n",
       "      <th>서울페이앱분류업종</th>\n",
       "      <th>자치구</th>\n",
       "      <th>상품권매출금액\\n(24년1월~24년6월)</th>\n",
       "      <th>상품권거래건수\\n(24년1월~24년6월)</th>\n",
       "    </tr>\n",
       "  </thead>\n",
       "  <tbody>\n",
       "    <tr>\n",
       "      <th>250959</th>\n",
       "      <td>문화/체육</td>\n",
       "      <td>송파구</td>\n",
       "      <td>0</td>\n",
       "      <td>0</td>\n",
       "    </tr>\n",
       "    <tr>\n",
       "      <th>250974</th>\n",
       "      <td>생활/리빙</td>\n",
       "      <td>동대문구</td>\n",
       "      <td>0</td>\n",
       "      <td>0</td>\n",
       "    </tr>\n",
       "    <tr>\n",
       "      <th>250973</th>\n",
       "      <td>가구/인테리어</td>\n",
       "      <td>강동구</td>\n",
       "      <td>0</td>\n",
       "      <td>0</td>\n",
       "    </tr>\n",
       "    <tr>\n",
       "      <th>250972</th>\n",
       "      <td>기타</td>\n",
       "      <td>강남구</td>\n",
       "      <td>0</td>\n",
       "      <td>0</td>\n",
       "    </tr>\n",
       "    <tr>\n",
       "      <th>250971</th>\n",
       "      <td>기타</td>\n",
       "      <td>송파구</td>\n",
       "      <td>0</td>\n",
       "      <td>0</td>\n",
       "    </tr>\n",
       "    <tr>\n",
       "      <th>250970</th>\n",
       "      <td>문화/체육</td>\n",
       "      <td>강동구</td>\n",
       "      <td>0</td>\n",
       "      <td>0</td>\n",
       "    </tr>\n",
       "    <tr>\n",
       "      <th>250969</th>\n",
       "      <td>식자재/유통</td>\n",
       "      <td>강서구</td>\n",
       "      <td>0</td>\n",
       "      <td>0</td>\n",
       "    </tr>\n",
       "    <tr>\n",
       "      <th>250968</th>\n",
       "      <td>생활/리빙</td>\n",
       "      <td>양천구</td>\n",
       "      <td>0</td>\n",
       "      <td>0</td>\n",
       "    </tr>\n",
       "    <tr>\n",
       "      <th>250967</th>\n",
       "      <td>생활/리빙</td>\n",
       "      <td>동작구</td>\n",
       "      <td>0</td>\n",
       "      <td>0</td>\n",
       "    </tr>\n",
       "    <tr>\n",
       "      <th>250999</th>\n",
       "      <td>의류/잡화</td>\n",
       "      <td>동대문구</td>\n",
       "      <td>0</td>\n",
       "      <td>0</td>\n",
       "    </tr>\n",
       "  </tbody>\n",
       "</table>\n",
       "</div>"
      ],
      "text/plain": [
       "       서울페이앱분류업종   자치구  상품권매출금액\\n(24년1월~24년6월)  상품권거래건수\\n(24년1월~24년6월)\n",
       "250959     문화/체육   송파구                       0                       0\n",
       "250974     생활/리빙  동대문구                       0                       0\n",
       "250973   가구/인테리어   강동구                       0                       0\n",
       "250972        기타   강남구                       0                       0\n",
       "250971        기타   송파구                       0                       0\n",
       "250970     문화/체육   강동구                       0                       0\n",
       "250969    식자재/유통   강서구                       0                       0\n",
       "250968     생활/리빙   양천구                       0                       0\n",
       "250967     생활/리빙   동작구                       0                       0\n",
       "250999     의류/잡화  동대문구                       0                       0"
      ]
     },
     "execution_count": 253,
     "metadata": {},
     "output_type": "execute_result"
    }
   ],
   "source": [
    "data.sort_values('상품권매출금액\\n(24년1월~24년6월)', ascending=True).head(10)"
   ]
  },
  {
   "cell_type": "markdown",
   "id": "eb29503a",
   "metadata": {},
   "source": [
    "* 기본 통계량 파악(평균, 표준편차, min, max 등)\n",
    "    - describe()"
   ]
  },
  {
   "cell_type": "code",
   "execution_count": 254,
   "id": "c2c83392",
   "metadata": {},
   "outputs": [
    {
     "data": {
      "text/html": [
       "<div>\n",
       "<style scoped>\n",
       "    .dataframe tbody tr th:only-of-type {\n",
       "        vertical-align: middle;\n",
       "    }\n",
       "\n",
       "    .dataframe tbody tr th {\n",
       "        vertical-align: top;\n",
       "    }\n",
       "\n",
       "    .dataframe thead th {\n",
       "        text-align: right;\n",
       "    }\n",
       "</style>\n",
       "<table border=\"1\" class=\"dataframe\">\n",
       "  <thead>\n",
       "    <tr style=\"text-align: right;\">\n",
       "      <th></th>\n",
       "      <th>상품권매출금액\\n(24년1월~24년6월)</th>\n",
       "      <th>상품권거래건수\\n(24년1월~24년6월)</th>\n",
       "    </tr>\n",
       "  </thead>\n",
       "  <tbody>\n",
       "    <tr>\n",
       "      <th>count</th>\n",
       "      <td>2.510060e+05</td>\n",
       "      <td>251006.000000</td>\n",
       "    </tr>\n",
       "    <tr>\n",
       "      <th>mean</th>\n",
       "      <td>1.346691e+06</td>\n",
       "      <td>38.351972</td>\n",
       "    </tr>\n",
       "    <tr>\n",
       "      <th>std</th>\n",
       "      <td>9.573323e+06</td>\n",
       "      <td>419.549425</td>\n",
       "    </tr>\n",
       "    <tr>\n",
       "      <th>min</th>\n",
       "      <td>0.000000e+00</td>\n",
       "      <td>0.000000</td>\n",
       "    </tr>\n",
       "    <tr>\n",
       "      <th>25%</th>\n",
       "      <td>0.000000e+00</td>\n",
       "      <td>0.000000</td>\n",
       "    </tr>\n",
       "    <tr>\n",
       "      <th>50%</th>\n",
       "      <td>1.000000e+05</td>\n",
       "      <td>3.000000</td>\n",
       "    </tr>\n",
       "    <tr>\n",
       "      <th>75%</th>\n",
       "      <td>9.212975e+05</td>\n",
       "      <td>27.000000</td>\n",
       "    </tr>\n",
       "    <tr>\n",
       "      <th>max</th>\n",
       "      <td>3.583515e+09</td>\n",
       "      <td>192005.000000</td>\n",
       "    </tr>\n",
       "  </tbody>\n",
       "</table>\n",
       "</div>"
      ],
      "text/plain": [
       "       상품권매출금액\\n(24년1월~24년6월)  상품권거래건수\\n(24년1월~24년6월)\n",
       "count            2.510060e+05           251006.000000\n",
       "mean             1.346691e+06               38.351972\n",
       "std              9.573323e+06              419.549425\n",
       "min              0.000000e+00                0.000000\n",
       "25%              0.000000e+00                0.000000\n",
       "50%              1.000000e+05                3.000000\n",
       "75%              9.212975e+05               27.000000\n",
       "max              3.583515e+09           192005.000000"
      ]
     },
     "execution_count": 254,
     "metadata": {},
     "output_type": "execute_result"
    }
   ],
   "source": [
    "data.describe()"
   ]
  },
  {
   "cell_type": "markdown",
   "id": "6fe0c225",
   "metadata": {},
   "source": [
    "### 3. 데이터 정제 및 전처리"
   ]
  },
  {
   "cell_type": "markdown",
   "id": "67d18851",
   "metadata": {},
   "source": [
    "* 결측치/이상치 파악 및 처리(대체, 삭제)"
   ]
  },
  {
   "cell_type": "code",
   "execution_count": 255,
   "id": "27c26eca",
   "metadata": {},
   "outputs": [
    {
     "data": {
      "text/plain": [
       "서울페이앱분류업종                 0\n",
       "자치구                       0\n",
       "상품권매출금액\\n(24년1월~24년6월)    0\n",
       "상품권거래건수\\n(24년1월~24년6월)    0\n",
       "dtype: int64"
      ]
     },
     "execution_count": 255,
     "metadata": {},
     "output_type": "execute_result"
    }
   ],
   "source": [
    "data.isna().sum()"
   ]
  },
  {
   "cell_type": "markdown",
   "id": "7a35d0cd",
   "metadata": {},
   "source": [
    "* 불필요한 통계처리 방지를 위한 형변환(코드, 날짜 -> object)"
   ]
  },
  {
   "cell_type": "code",
   "execution_count": 256,
   "id": "c7071e06",
   "metadata": {},
   "outputs": [
    {
     "name": "stdout",
     "output_type": "stream",
     "text": [
      "<class 'pandas.core.frame.DataFrame'>\n",
      "RangeIndex: 251006 entries, 0 to 251005\n",
      "Data columns (total 4 columns):\n",
      " #   Column                 Non-Null Count   Dtype \n",
      "---  ------                 --------------   ----- \n",
      " 0   서울페이앱분류업종              251006 non-null  object\n",
      " 1   자치구                    251006 non-null  object\n",
      " 2   상품권매출금액\n",
      "(24년1월~24년6월)  251006 non-null  int64 \n",
      " 3   상품권거래건수\n",
      "(24년1월~24년6월)  251006 non-null  int64 \n",
      "dtypes: int64(2), object(2)\n",
      "memory usage: 7.7+ MB\n"
     ]
    }
   ],
   "source": [
    "data = data.astype({'자치구' : 'object'})\n",
    "data.info()"
   ]
  },
  {
   "cell_type": "markdown",
   "id": "85425d9c",
   "metadata": {},
   "source": [
    "* 필요없는 컬럼/행 제거"
   ]
  },
  {
   "cell_type": "code",
   "execution_count": 257,
   "id": "cc311263",
   "metadata": {},
   "outputs": [],
   "source": [
    "# 값이 0인것도 의미가 있을 수 있으므로 분석\n",
    "# drop(axis=0) 행 / drop(axis=1) 열\n",
    "# data = data.drop(columns='uniq',axis=1)"
   ]
  },
  {
   "cell_type": "markdown",
   "id": "22aa59c2",
   "metadata": {},
   "source": [
    "* 중복값 확인/제거"
   ]
  },
  {
   "cell_type": "code",
   "execution_count": 258,
   "id": "aeb5b657",
   "metadata": {},
   "outputs": [],
   "source": [
    "# data.duplicates() \n",
    "# data.drop_duplicates()"
   ]
  },
  {
   "cell_type": "markdown",
   "id": "1c7800dd",
   "metadata": {},
   "source": [
    "- data 편집(groupby, sort)"
   ]
  },
  {
   "cell_type": "code",
   "execution_count": 259,
   "id": "1af93160",
   "metadata": {},
   "outputs": [],
   "source": [
    "# raw data가 자치구, 업종으로 unique하게 구분되지 않고 1월~6월까지의 data를 그대로 쌓은 형태\n",
    "# 자치구, 업종을 기준으로 unique한 행이 나오도록 합산이 필요\n",
    "\n",
    "# 중복 제거\n",
    "base_list = data.groupby(['자치구', '서울페이앱분류업종'])['상품권매출금액\\n(24년1월~24년6월)'].sum().reset_index()\n",
    "count_list = data.groupby(['자치구', '서울페이앱분류업종'])['상품권거래건수\\n(24년1월~24년6월)'].sum().reset_index()\n",
    "base_list['건수'] = count_list['상품권거래건수\\n(24년1월~24년6월)']\n",
    "\n",
    "# renaming\n",
    "base_list = base_list.rename(columns={'서울페이앱분류업종':'업종'})\n",
    "base_list = base_list.rename(columns={'상품권매출금액\\n(24년1월~24년6월)':'금액'})\n",
    "\n",
    "data = base_list"
   ]
  },
  {
   "cell_type": "markdown",
   "id": "0da6932b",
   "metadata": {},
   "source": [
    "* 파생 변수(feature) 생성(평균의 경우 data 편집 후에 최종 처리하는 것이 좋음)"
   ]
  },
  {
   "cell_type": "code",
   "execution_count": 260,
   "id": "396c4849",
   "metadata": {},
   "outputs": [
    {
     "data": {
      "text/html": [
       "<div>\n",
       "<style scoped>\n",
       "    .dataframe tbody tr th:only-of-type {\n",
       "        vertical-align: middle;\n",
       "    }\n",
       "\n",
       "    .dataframe tbody tr th {\n",
       "        vertical-align: top;\n",
       "    }\n",
       "\n",
       "    .dataframe thead th {\n",
       "        text-align: right;\n",
       "    }\n",
       "</style>\n",
       "<table border=\"1\" class=\"dataframe\">\n",
       "  <thead>\n",
       "    <tr style=\"text-align: right;\">\n",
       "      <th></th>\n",
       "      <th>자치구</th>\n",
       "      <th>업종</th>\n",
       "      <th>금액</th>\n",
       "      <th>건수</th>\n",
       "      <th>건당금액</th>\n",
       "    </tr>\n",
       "  </thead>\n",
       "  <tbody>\n",
       "    <tr>\n",
       "      <th>0</th>\n",
       "      <td>강남구</td>\n",
       "      <td>가구/인테리어</td>\n",
       "      <td>43905456</td>\n",
       "      <td>144</td>\n",
       "      <td>304899.000000</td>\n",
       "    </tr>\n",
       "    <tr>\n",
       "      <th>1</th>\n",
       "      <td>강남구</td>\n",
       "      <td>가전/통신</td>\n",
       "      <td>35217140</td>\n",
       "      <td>275</td>\n",
       "      <td>128062.327273</td>\n",
       "    </tr>\n",
       "    <tr>\n",
       "      <th>2</th>\n",
       "      <td>강남구</td>\n",
       "      <td>건축/철물</td>\n",
       "      <td>7850140</td>\n",
       "      <td>79</td>\n",
       "      <td>99368.860759</td>\n",
       "    </tr>\n",
       "    <tr>\n",
       "      <th>3</th>\n",
       "      <td>강남구</td>\n",
       "      <td>기술/기능교육</td>\n",
       "      <td>1988429830</td>\n",
       "      <td>7315</td>\n",
       "      <td>271829.095010</td>\n",
       "    </tr>\n",
       "    <tr>\n",
       "      <th>4</th>\n",
       "      <td>강남구</td>\n",
       "      <td>기업/기관</td>\n",
       "      <td>0</td>\n",
       "      <td>0</td>\n",
       "      <td>NaN</td>\n",
       "    </tr>\n",
       "  </tbody>\n",
       "</table>\n",
       "</div>"
      ],
      "text/plain": [
       "   자치구       업종          금액    건수           건당금액\n",
       "0  강남구  가구/인테리어    43905456   144  304899.000000\n",
       "1  강남구    가전/통신    35217140   275  128062.327273\n",
       "2  강남구    건축/철물     7850140    79   99368.860759\n",
       "3  강남구  기술/기능교육  1988429830  7315  271829.095010\n",
       "4  강남구    기업/기관           0     0            NaN"
      ]
     },
     "execution_count": 260,
     "metadata": {},
     "output_type": "execute_result"
    }
   ],
   "source": [
    "data['건당금액'] = data['금액'] / data['건수']\n",
    "data.head()"
   ]
  },
  {
   "cell_type": "markdown",
   "id": "cca7a464",
   "metadata": {},
   "source": [
    "### 4. 기초 통계 분석 및 시각화"
   ]
  },
  {
   "cell_type": "markdown",
   "id": "6ae4e024",
   "metadata": {},
   "source": [
    "* 단변량 분석 (변수 1개씩)"
   ]
  },
  {
   "cell_type": "code",
   "execution_count": 261,
   "id": "c0f35bba",
   "metadata": {},
   "outputs": [
    {
     "name": "stdout",
     "output_type": "stream",
     "text": [
      "top3 pay : ['강남구', '서초구', '성북구']\n",
      "bottom3 pay : ['금천구', '강동구', '구로구']\n"
     ]
    }
   ],
   "source": [
    "# 자치구별 소비금액 top/bottom 3\n",
    "\n",
    "sum_pay_data = data.groupby('자치구')['금액'].sum()\n",
    "sum_pay_data.reset_index()\n",
    "\n",
    "top_3_pay_region = sum_pay_data.sort_values(ascending=False).head(3).index.tolist()\n",
    "\n",
    "bottom_3_pay_region = sum_pay_data.sort_values(ascending=False).tail(3).index.tolist()\n",
    "bottom_3_pay_region.reverse() # reverse 결과가 None인 것 주의\n",
    "\n",
    "print('top3 pay :',top_3_pay_region)\n",
    "print('bottom3 pay :',bottom_3_pay_region) "
   ]
  },
  {
   "cell_type": "code",
   "execution_count": 262,
   "id": "971dbe4d",
   "metadata": {},
   "outputs": [
    {
     "name": "stdout",
     "output_type": "stream",
     "text": [
      "top3 region&kind : ['음식점/식음료업', '보건/복지', '식자재/유통']\n",
      "bottom3 region&kind : ['기타 교육기관', '부동산/임대', '디자인/인쇄']\n"
     ]
    }
   ],
   "source": [
    "# 업종별 소비금액 top/bottom 3\n",
    "\n",
    "sum_kind_data = data.groupby(['업종'])['금액'].sum()\n",
    "sum_kind_data.reset_index()\n",
    "\n",
    "# TODO 이게 맞는건지 한번 더 체크 \n",
    "top_3_kind_region = sum_kind_data.sort_values(ascending=False).head(3).index.tolist()\n",
    "\n",
    "bottom_3_kind_region = sum_kind_data.sort_values(ascending=False).tail(3).index.tolist()\n",
    "bottom_3_kind_region.reverse() # reverse 결과가 None인 것 주의\n",
    "\n",
    "print('top3 region&kind :',top_3_kind_region)\n",
    "print('bottom3 region&kind :',bottom_3_kind_region) "
   ]
  },
  {
   "cell_type": "markdown",
   "id": "4bc3a74d",
   "metadata": {},
   "source": [
    "* 연속형 변수: 히스토그램, 박스플롯 등"
   ]
  },
  {
   "cell_type": "markdown",
   "id": "dbf81a09",
   "metadata": {},
   "source": [
    "* 범주형 변수: 막대그래프(bar), 파이차트 등"
   ]
  },
  {
   "cell_type": "markdown",
   "id": "6474f346",
   "metadata": {},
   "source": [
    "* 변수별 빈도, 비율, 평균, 중앙값, 표준편차 등 기초 통계량 분석"
   ]
  },
  {
   "cell_type": "markdown",
   "id": "a0fac31d",
   "metadata": {},
   "source": [
    "* 지역 데이터의 경우 지도로 표현"
   ]
  },
  {
   "cell_type": "markdown",
   "id": "6956e13b",
   "metadata": {},
   "source": [
    "### 5. EDA 인사이트 도출 및 기록"
   ]
  },
  {
   "cell_type": "markdown",
   "id": "4f2f90f0",
   "metadata": {},
   "source": [
    "* 발견한 주요 패턴, 이상값, 특이점 정리\n",
    "    - 생각보다 부자동네(강남,서초,성북)에서 상품권 소비가 많음\n",
    "    <br>(절대 금액이 큰 것 뿐인지 확인 필요 - 다른 조건으로 확인)"
   ]
  },
  {
   "cell_type": "markdown",
   "id": "d410fd19",
   "metadata": {},
   "source": [
    "* 데이터 품질 문제 기록 (예: 입력 오류, 단위 문제 등)\n",
    "    - 특정지역/업종의 결제 건수가 0인 데이터가 절반 가량(전처리에서 합침)"
   ]
  },
  {
   "cell_type": "markdown",
   "id": "51a317bf",
   "metadata": {},
   "source": [
    "* 변경된 가설이나 추가로 필요한 데이터 정리\n",
    "    - 김천은 학원 소비가 41%라는데 서울지역은 1위가 음식점<br>(지역별 차이 확인 필요)"
   ]
  },
  {
   "cell_type": "markdown",
   "id": "5895f79a",
   "metadata": {},
   "source": [
    "* 다음 분석 단계(모델링, 시각화, 리포트 등)로의 계획 수립\n",
    "    - 위경도 데이터와 연계하여 구별 소비액/업종 등 표현"
   ]
  }
 ],
 "metadata": {
  "kernelspec": {
   "display_name": "eda-public-cycle",
   "language": "python",
   "name": "python3"
  },
  "language_info": {
   "codemirror_mode": {
    "name": "ipython",
    "version": 3
   },
   "file_extension": ".py",
   "mimetype": "text/x-python",
   "name": "python",
   "nbconvert_exporter": "python",
   "pygments_lexer": "ipython3",
   "version": "3.13.5"
  }
 },
 "nbformat": 4,
 "nbformat_minor": 5
}
